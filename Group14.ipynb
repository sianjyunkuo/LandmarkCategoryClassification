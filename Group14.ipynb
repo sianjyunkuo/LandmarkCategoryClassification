{
  "cells": [
    {
      "cell_type": "markdown",
      "metadata": {
        "id": "rV-csDuA4nvy"
      },
      "source": [
        "### Download data"
      ]
    },
    {
      "cell_type": "code",
      "execution_count": null,
      "metadata": {
        "id": "nV5xAmO7dNWf",
        "colab": {
          "base_uri": "https://localhost:8080/",
          "height": 956
        },
        "outputId": "8df0114b-f5a4-483e-bc55-3138a72b6502"
      },
      "outputs": [
        {
          "output_type": "stream",
          "name": "stdout",
          "text": [
            "Found existing installation: tensorflow 2.9.3\n",
            "Uninstalling tensorflow-2.9.3:\n",
            "  Successfully uninstalled tensorflow-2.9.3\n",
            "Looking in indexes: https://pypi.org/simple, https://us-python.pkg.dev/colab-wheels/public/simple/\n",
            "Collecting tensorflow==2.9.*\n",
            "  Using cached tensorflow-2.9.3-cp310-cp310-manylinux_2_17_x86_64.manylinux2014_x86_64.whl (511.8 MB)\n",
            "Requirement already satisfied: h5py>=2.9.0 in /usr/local/lib/python3.10/dist-packages (from tensorflow==2.9.*) (3.8.0)\n",
            "Requirement already satisfied: typing-extensions>=3.6.6 in /usr/local/lib/python3.10/dist-packages (from tensorflow==2.9.*) (4.5.0)\n",
            "Requirement already satisfied: tensorboard<2.10,>=2.9 in /usr/local/lib/python3.10/dist-packages (from tensorflow==2.9.*) (2.9.1)\n",
            "Requirement already satisfied: absl-py>=1.0.0 in /usr/local/lib/python3.10/dist-packages (from tensorflow==2.9.*) (1.4.0)\n",
            "Requirement already satisfied: protobuf<3.20,>=3.9.2 in /usr/local/lib/python3.10/dist-packages (from tensorflow==2.9.*) (3.19.6)\n",
            "Requirement already satisfied: wrapt>=1.11.0 in /usr/local/lib/python3.10/dist-packages (from tensorflow==2.9.*) (1.14.1)\n",
            "Requirement already satisfied: tensorflow-io-gcs-filesystem>=0.23.1 in /usr/local/lib/python3.10/dist-packages (from tensorflow==2.9.*) (0.32.0)\n",
            "Requirement already satisfied: packaging in /usr/local/lib/python3.10/dist-packages (from tensorflow==2.9.*) (23.1)\n",
            "Requirement already satisfied: gast<=0.4.0,>=0.2.1 in /usr/local/lib/python3.10/dist-packages (from tensorflow==2.9.*) (0.4.0)\n",
            "Requirement already satisfied: tensorflow-estimator<2.10.0,>=2.9.0rc0 in /usr/local/lib/python3.10/dist-packages (from tensorflow==2.9.*) (2.9.0)\n",
            "Requirement already satisfied: libclang>=13.0.0 in /usr/local/lib/python3.10/dist-packages (from tensorflow==2.9.*) (16.0.0)\n",
            "Requirement already satisfied: six>=1.12.0 in /usr/local/lib/python3.10/dist-packages (from tensorflow==2.9.*) (1.16.0)\n",
            "Requirement already satisfied: keras-preprocessing>=1.1.1 in /usr/local/lib/python3.10/dist-packages (from tensorflow==2.9.*) (1.1.2)\n",
            "Requirement already satisfied: numpy>=1.20 in /usr/local/lib/python3.10/dist-packages (from tensorflow==2.9.*) (1.22.4)\n",
            "Requirement already satisfied: astunparse>=1.6.0 in /usr/local/lib/python3.10/dist-packages (from tensorflow==2.9.*) (1.6.3)\n",
            "Requirement already satisfied: google-pasta>=0.1.1 in /usr/local/lib/python3.10/dist-packages (from tensorflow==2.9.*) (0.2.0)\n",
            "Requirement already satisfied: grpcio<2.0,>=1.24.3 in /usr/local/lib/python3.10/dist-packages (from tensorflow==2.9.*) (1.54.0)\n",
            "Requirement already satisfied: termcolor>=1.1.0 in /usr/local/lib/python3.10/dist-packages (from tensorflow==2.9.*) (2.3.0)\n",
            "Requirement already satisfied: flatbuffers<2,>=1.12 in /usr/local/lib/python3.10/dist-packages (from tensorflow==2.9.*) (1.12)\n",
            "Requirement already satisfied: opt-einsum>=2.3.2 in /usr/local/lib/python3.10/dist-packages (from tensorflow==2.9.*) (3.3.0)\n",
            "Requirement already satisfied: keras<2.10.0,>=2.9.0rc0 in /usr/local/lib/python3.10/dist-packages (from tensorflow==2.9.*) (2.9.0)\n",
            "Requirement already satisfied: setuptools in /usr/local/lib/python3.10/dist-packages (from tensorflow==2.9.*) (67.7.2)\n",
            "Requirement already satisfied: wheel<1.0,>=0.23.0 in /usr/local/lib/python3.10/dist-packages (from astunparse>=1.6.0->tensorflow==2.9.*) (0.40.0)\n",
            "Requirement already satisfied: google-auth-oauthlib<0.5,>=0.4.1 in /usr/local/lib/python3.10/dist-packages (from tensorboard<2.10,>=2.9->tensorflow==2.9.*) (0.4.6)\n",
            "Requirement already satisfied: tensorboard-data-server<0.7.0,>=0.6.0 in /usr/local/lib/python3.10/dist-packages (from tensorboard<2.10,>=2.9->tensorflow==2.9.*) (0.6.1)\n",
            "Requirement already satisfied: tensorboard-plugin-wit>=1.6.0 in /usr/local/lib/python3.10/dist-packages (from tensorboard<2.10,>=2.9->tensorflow==2.9.*) (1.8.1)\n",
            "Requirement already satisfied: werkzeug>=1.0.1 in /usr/local/lib/python3.10/dist-packages (from tensorboard<2.10,>=2.9->tensorflow==2.9.*) (2.3.0)\n",
            "Requirement already satisfied: requests<3,>=2.21.0 in /usr/local/lib/python3.10/dist-packages (from tensorboard<2.10,>=2.9->tensorflow==2.9.*) (2.27.1)\n",
            "Requirement already satisfied: google-auth<3,>=1.6.3 in /usr/local/lib/python3.10/dist-packages (from tensorboard<2.10,>=2.9->tensorflow==2.9.*) (2.17.3)\n",
            "Requirement already satisfied: markdown>=2.6.8 in /usr/local/lib/python3.10/dist-packages (from tensorboard<2.10,>=2.9->tensorflow==2.9.*) (3.4.3)\n",
            "Requirement already satisfied: pyasn1-modules>=0.2.1 in /usr/local/lib/python3.10/dist-packages (from google-auth<3,>=1.6.3->tensorboard<2.10,>=2.9->tensorflow==2.9.*) (0.3.0)\n",
            "Requirement already satisfied: cachetools<6.0,>=2.0.0 in /usr/local/lib/python3.10/dist-packages (from google-auth<3,>=1.6.3->tensorboard<2.10,>=2.9->tensorflow==2.9.*) (5.3.0)\n",
            "Requirement already satisfied: rsa<5,>=3.1.4 in /usr/local/lib/python3.10/dist-packages (from google-auth<3,>=1.6.3->tensorboard<2.10,>=2.9->tensorflow==2.9.*) (4.9)\n",
            "Requirement already satisfied: requests-oauthlib>=0.7.0 in /usr/local/lib/python3.10/dist-packages (from google-auth-oauthlib<0.5,>=0.4.1->tensorboard<2.10,>=2.9->tensorflow==2.9.*) (1.3.1)\n",
            "Requirement already satisfied: idna<4,>=2.5 in /usr/local/lib/python3.10/dist-packages (from requests<3,>=2.21.0->tensorboard<2.10,>=2.9->tensorflow==2.9.*) (3.4)\n",
            "Requirement already satisfied: urllib3<1.27,>=1.21.1 in /usr/local/lib/python3.10/dist-packages (from requests<3,>=2.21.0->tensorboard<2.10,>=2.9->tensorflow==2.9.*) (1.26.15)\n",
            "Requirement already satisfied: certifi>=2017.4.17 in /usr/local/lib/python3.10/dist-packages (from requests<3,>=2.21.0->tensorboard<2.10,>=2.9->tensorflow==2.9.*) (2022.12.7)\n",
            "Requirement already satisfied: charset-normalizer~=2.0.0 in /usr/local/lib/python3.10/dist-packages (from requests<3,>=2.21.0->tensorboard<2.10,>=2.9->tensorflow==2.9.*) (2.0.12)\n",
            "Requirement already satisfied: MarkupSafe>=2.1.1 in /usr/local/lib/python3.10/dist-packages (from werkzeug>=1.0.1->tensorboard<2.10,>=2.9->tensorflow==2.9.*) (2.1.2)\n",
            "Requirement already satisfied: pyasn1<0.6.0,>=0.4.6 in /usr/local/lib/python3.10/dist-packages (from pyasn1-modules>=0.2.1->google-auth<3,>=1.6.3->tensorboard<2.10,>=2.9->tensorflow==2.9.*) (0.5.0)\n",
            "Requirement already satisfied: oauthlib>=3.0.0 in /usr/local/lib/python3.10/dist-packages (from requests-oauthlib>=0.7.0->google-auth-oauthlib<0.5,>=0.4.1->tensorboard<2.10,>=2.9->tensorflow==2.9.*) (3.2.2)\n",
            "Installing collected packages: tensorflow\n",
            "Successfully installed tensorflow-2.9.3\n"
          ]
        },
        {
          "output_type": "display_data",
          "data": {
            "application/vnd.colab-display-data+json": {
              "pip_warning": {
                "packages": [
                  "tensorflow"
                ]
              }
            }
          },
          "metadata": {}
        }
      ],
      "source": [
        "!pip install -U -q PyDrive\n",
        "!pip uninstall tensorflow -y\n",
        "!pip install  tensorflow==2.9.*"
      ]
    },
    {
      "cell_type": "code",
      "execution_count": null,
      "metadata": {
        "id": "NR75ZzxvdJcE"
      },
      "outputs": [],
      "source": [
        "from pydrive.auth import GoogleAuth\n",
        "from pydrive.drive import GoogleDrive\n",
        "from google.colab import auth\n",
        "from oauth2client.client import GoogleCredentials"
      ]
    },
    {
      "cell_type": "code",
      "execution_count": null,
      "metadata": {
        "id": "Jc2-9DbjdV1v"
      },
      "outputs": [],
      "source": [
        "auth.authenticate_user()\n",
        "gauth = GoogleAuth()\n",
        "gauth.credentials = GoogleCredentials.get_application_default()\n",
        "drive = GoogleDrive(gauth)"
      ]
    },
    {
      "cell_type": "code",
      "execution_count": null,
      "metadata": {
        "id": "bkSuCU94dWgR"
      },
      "outputs": [],
      "source": [
        "id = \"1sNjXqBEo_syiwh9I6GzM3Gw5sSyG3Jan\"\n",
        "# https://drive.google.com/file/d/1sNjXqBEo_syiwh9I6GzM3Gw5sSyG3Jan/view?usp=share_link"
      ]
    },
    {
      "cell_type": "code",
      "execution_count": null,
      "metadata": {
        "id": "5aLF24XTdjBR"
      },
      "outputs": [],
      "source": [
        "\n",
        "downloaded = drive.CreateFile({'id':id}) \n",
        "downloaded.GetContentFile('Landmarks-v1_0.zip') "
      ]
    },
    {
      "cell_type": "code",
      "execution_count": null,
      "metadata": {
        "id": "pLfd1lbogSW1",
        "colab": {
          "base_uri": "https://localhost:8080/"
        },
        "outputId": "9ad96b60-8183-48e2-9d96-fad4191d57f1"
      },
      "outputs": [
        {
          "output_type": "stream",
          "name": "stdout",
          "text": [
            "Looking in indexes: https://pypi.org/simple, https://us-python.pkg.dev/colab-wheels/public/simple/\n",
            "Requirement already satisfied: patool in /usr/local/lib/python3.10/dist-packages (1.12)\n"
          ]
        }
      ],
      "source": [
        "!pip install patool"
      ]
    },
    {
      "cell_type": "code",
      "execution_count": null,
      "metadata": {
        "id": "yq1PRpoMjum_",
        "colab": {
          "base_uri": "https://localhost:8080/",
          "height": 86
        },
        "outputId": "630e8ae1-9eda-463d-c645-68bb05f4e30a"
      },
      "outputs": [
        {
          "output_type": "stream",
          "name": "stdout",
          "text": [
            "patool: Extracting Landmarks-v1_0.zip ...\n",
            "patool: running /usr/bin/7z x -o./Unpack_0mcpz44c -- Landmarks-v1_0.zip\n",
            "patool: ... Landmarks-v1_0.zip extracted to `Landmarks-v1_02' (multiple files in root).\n"
          ]
        },
        {
          "output_type": "execute_result",
          "data": {
            "text/plain": [
              "'Landmarks-v1_02'"
            ],
            "application/vnd.google.colaboratory.intrinsic+json": {
              "type": "string"
            }
          },
          "metadata": {},
          "execution_count": 56
        }
      ],
      "source": [
        "import patoolib\n",
        "patoolib.extract_archive(\"Landmarks-v1_0.zip\")"
      ]
    },
    {
      "cell_type": "markdown",
      "metadata": {
        "id": "RKrvxPdP4zvG"
      },
      "source": [
        "### Split data"
      ]
    },
    {
      "cell_type": "code",
      "source": [
        "\n",
        "from PIL import Image\n",
        "import numpy as np\n",
        "import os\n",
        "\n",
        "# Set the path to the folder containing the landmark images\n",
        "path = \"Landmarks-v1_0\"\n",
        "\n",
        "# Set the target size for the images\n",
        "target_size = (224, 224)"
      ],
      "metadata": {
        "id": "k7fUGX_TYk92"
      },
      "execution_count": null,
      "outputs": []
    },
    {
      "cell_type": "code",
      "source": [
        "!pip install pillow pillow-avif-plugin\n",
        "import pillow_avif"
      ],
      "metadata": {
        "colab": {
          "base_uri": "https://localhost:8080/"
        },
        "outputId": "c3357b48-afdd-4805-99ff-03b059dea361",
        "id": "BJxB8SLV4MEz"
      },
      "execution_count": null,
      "outputs": [
        {
          "output_type": "stream",
          "name": "stdout",
          "text": [
            "Looking in indexes: https://pypi.org/simple, https://us-python.pkg.dev/colab-wheels/public/simple/\n",
            "Requirement already satisfied: pillow in /usr/local/lib/python3.10/dist-packages (8.4.0)\n",
            "Requirement already satisfied: pillow-avif-plugin in /usr/local/lib/python3.10/dist-packages (1.3.1)\n"
          ]
        }
      ]
    },
    {
      "cell_type": "code",
      "source": [
        "for category in os.listdir(path):\n",
        "    category_path = os.path.join(path, category)\n",
        "    for landmark in os.listdir(category_path):\n",
        "        landmark_path = os.path.join(category_path, landmark)\n",
        "        for filename in os.listdir(landmark_path):\n",
        "            image_path = os.path.join(landmark_path, filename)\n",
        "            # Load the image using Pillow\n",
        "            # if os.path.splitext(image_path)[1] == '.avif':\n",
        "            #     # Load the AVIF image using avifio\n",
        "            #     # image_array = imageio.imread(image_path)\n",
        "            #     # image = Image.fromarray(np.array(image_array).astype('uint8'))\n",
        "            #     image = Image.open(image_path)\n",
        "            # else:\n",
        "            #     # Load the image using PIL\n",
        "            #     image = Image.open(image_path)\n",
        "            image = Image.open(image_path)\n",
        "            # Resize the image\n",
        "            image = image.resize(target_size)\n",
        "            # Crop the image\n",
        "            # Here, we crop the center of the image\n",
        "            # width, height = image.size\n",
        "            # left = (width - target_size[0]) // 2\n",
        "            # top = (height - target_size[1]) // 2\n",
        "            # right = left + target_size[0]\n",
        "            # bottom = top + target_size[1]\n",
        "            # image = image.crop((left, top, right, bottom))\n",
        "            # Normalize the image\n",
        "            # Here, we normalize the pixel values to be between 0 and 1\n",
        "            image_array = np.array(image).astype(np.uint8)\n",
        "            image_min = image_array.min()\n",
        "            image_max = image_array.max()\n",
        "            image_normalized = (image_array - image_min) / (image_max - image_min)\n",
        "            image = Image.fromarray((image_normalized*255).astype(np.uint8))\n",
        "            # Save the preprocessed image\n",
        "            image_name, image_ext = os.path.splitext(filename)\n",
        "            preprocessed_image_path = os.path.join(landmark_path, image_name + \"_preprocessed.jpg\")\n",
        "            os.remove(image_path)\n",
        "            # image = image.convert('RGB')\n",
        "            image.save(preprocessed_image_path)"
      ],
      "metadata": {
        "id": "YPeG2y_g4MEz"
      },
      "execution_count": null,
      "outputs": []
    },
    {
      "cell_type": "code",
      "source": [
        "import imgaug.augmenters as iaa\n",
        "\n",
        "# Define the augmentation pipeline\n",
        "seq = iaa.Sequential([\n",
        "    iaa.Flipud(p=0.5),  # vertically flip the image with 50% probability\n",
        "    iaa.Affine(rotate=(-10, 10)),  # rotate the image by -10 to 10 degrees\n",
        "    iaa.Affine(translate_px={\"x\": (-20, 20), \"y\": (-20, 20)}),  # translate the image horizontally and vertically by -20 to 20 pixels\n",
        "    iaa.AdditiveGaussianNoise(scale=(0, 0.05*255)),  # add Gaussian noise with a standard deviation of 0 to 0.05*255\n",
        "    iaa.Multiply((0.5, 1.5)),  # multiply the pixel values by a random value between 0.5 and 1.5\n",
        "])\n",
        "\n",
        "# Loop over the categories and landmarks folders\n",
        "for category in os.listdir(path):\n",
        "    category_path = os.path.join(path, category)\n",
        "    for landmark in os.listdir(category_path):\n",
        "        landmark_path = os.path.join(category_path, landmark)\n",
        "        for filename in os.listdir(landmark_path):\n",
        "            image_path = os.path.join(landmark_path, filename)\n",
        "            # Load the preprocessed image using Pillow\n",
        "            image = Image.open(image_path)\n",
        "            # Convert the image to a numpy array\n",
        "            image = np.array(image)\n",
        "            # Apply the augmentation pipeline\n",
        "            augmented_images = seq(images=[image])\n",
        "            # Save the augmented images\n",
        "            image_name, image_ext = os.path.splitext(filename)\n",
        "            for j, augmented_image in enumerate(augmented_images):\n",
        "                Image.fromarray(augmented_image.astype(np.uint8)).save(os.path.join(landmark_path, image_name + \"_augmented_\" + str(j) + \".jpg\"))"
      ],
      "metadata": {
        "id": "4zrUMOBM4ME0"
      },
      "execution_count": null,
      "outputs": []
    },
    {
      "cell_type": "code",
      "source": [
        "!pip install pillow pillow-avif-plugin\n",
        "import pillow_avif"
      ],
      "metadata": {
        "colab": {
          "base_uri": "https://localhost:8080/"
        },
        "outputId": "2ad87438-b297-4a79-b88a-594264f33efc",
        "id": "gAagjcm54K0u"
      },
      "execution_count": null,
      "outputs": [
        {
          "output_type": "stream",
          "name": "stdout",
          "text": [
            "Looking in indexes: https://pypi.org/simple, https://us-python.pkg.dev/colab-wheels/public/simple/\n",
            "Requirement already satisfied: pillow in /usr/local/lib/python3.10/dist-packages (8.4.0)\n",
            "Requirement already satisfied: pillow-avif-plugin in /usr/local/lib/python3.10/dist-packages (1.3.1)\n"
          ]
        }
      ]
    },
    {
      "cell_type": "code",
      "source": [
        "for category in os.listdir(path):\n",
        "    category_path = os.path.join(path, category)\n",
        "    for landmark in os.listdir(category_path):\n",
        "        landmark_path = os.path.join(category_path, landmark)\n",
        "        for filename in os.listdir(landmark_path):\n",
        "            image_path = os.path.join(landmark_path, filename)\n",
        "            # Load the image using Pillow\n",
        "            # if os.path.splitext(image_path)[1] == '.avif':\n",
        "            #     # Load the AVIF image using avifio\n",
        "            #     # image_array = imageio.imread(image_path)\n",
        "            #     # image = Image.fromarray(np.array(image_array).astype('uint8'))\n",
        "            #     image = Image.open(image_path)\n",
        "            # else:\n",
        "            #     # Load the image using PIL\n",
        "            #     image = Image.open(image_path)\n",
        "            image = Image.open(image_path)\n",
        "            # Resize the image\n",
        "            image = image.resize(target_size)\n",
        "            # Crop the image\n",
        "            # Here, we crop the center of the image\n",
        "            # width, height = image.size\n",
        "            # left = (width - target_size[0]) // 2\n",
        "            # top = (height - target_size[1]) // 2\n",
        "            # right = left + target_size[0]\n",
        "            # bottom = top + target_size[1]\n",
        "            # image = image.crop((left, top, right, bottom))\n",
        "            # Normalize the image\n",
        "            # Here, we normalize the pixel values to be between 0 and 1\n",
        "            image_array = np.array(image).astype(np.uint8)\n",
        "            image_min = image_array.min()\n",
        "            image_max = image_array.max()\n",
        "            image_normalized = (image_array - image_min) / (image_max - image_min)\n",
        "            image = Image.fromarray((image_normalized*255).astype(np.uint8))\n",
        "            # Save the preprocessed image\n",
        "            image_name, image_ext = os.path.splitext(filename)\n",
        "            preprocessed_image_path = os.path.join(landmark_path, image_name + \"_preprocessed.jpg\")\n",
        "            os.remove(image_path)\n",
        "            # image = image.convert('RGB')\n",
        "            image.save(preprocessed_image_path)"
      ],
      "metadata": {
        "id": "80b34hqh4K0w"
      },
      "execution_count": null,
      "outputs": []
    },
    {
      "cell_type": "code",
      "source": [
        "import imgaug.augmenters as iaa\n",
        "\n",
        "# Define the augmentation pipeline\n",
        "seq = iaa.Sequential([\n",
        "    iaa.Flipud(p=0.5),  # vertically flip the image with 50% probability\n",
        "    iaa.Affine(rotate=(-10, 10)),  # rotate the image by -10 to 10 degrees\n",
        "    iaa.Affine(translate_px={\"x\": (-20, 20), \"y\": (-20, 20)}),  # translate the image horizontally and vertically by -20 to 20 pixels\n",
        "    iaa.AdditiveGaussianNoise(scale=(0, 0.05*255)),  # add Gaussian noise with a standard deviation of 0 to 0.05*255\n",
        "    iaa.Multiply((0.5, 1.5)),  # multiply the pixel values by a random value between 0.5 and 1.5\n",
        "])\n",
        "\n",
        "# Loop over the categories and landmarks folders\n",
        "for category in os.listdir(path):\n",
        "    category_path = os.path.join(path, category)\n",
        "    for landmark in os.listdir(category_path):\n",
        "        landmark_path = os.path.join(category_path, landmark)\n",
        "        for filename in os.listdir(landmark_path):\n",
        "            image_path = os.path.join(landmark_path, filename)\n",
        "            # Load the preprocessed image using Pillow\n",
        "            image = Image.open(image_path)\n",
        "            # Convert the image to a numpy array\n",
        "            image = np.array(image)\n",
        "            # Apply the augmentation pipeline\n",
        "            augmented_images = seq(images=[image])\n",
        "            # Save the augmented images\n",
        "            image_name, image_ext = os.path.splitext(filename)\n",
        "            for j, augmented_image in enumerate(augmented_images):\n",
        "                Image.fromarray(augmented_image.astype(np.uint8)).save(os.path.join(landmark_path, image_name + \"_augmented_\" + str(j) + \".jpg\"))"
      ],
      "metadata": {
        "id": "8W6cOr2Q4K0w"
      },
      "execution_count": null,
      "outputs": []
    },
    {
      "cell_type": "code",
      "execution_count": null,
      "metadata": {
        "id": "OBWwASOV3fcT"
      },
      "outputs": [],
      "source": [
        "from sklearn.model_selection import train_test_split\n",
        "import shutil\n",
        "import os"
      ]
    },
    {
      "cell_type": "code",
      "execution_count": null,
      "metadata": {
        "id": "KTb-Zk653hPi"
      },
      "outputs": [],
      "source": [
        "data_dir = \"Landmarks-v1_0\"\n",
        "valid_size = 0.2\n",
        "test_size = 0.2\n",
        "\n",
        "\n",
        "categories_train_dir = \"categories_train\"\n",
        "categories_test_dir = \"categories_test\"\n",
        "categories_valid_dir = \"categories_valid\"\n",
        "\n",
        "landmarks_train_dir = \"landmarks_train\"\n",
        "landmarks_test_dir = \"landmarks_test\"\n",
        "landmarks_valid_dir = \"landmarks_valid\""
      ]
    },
    {
      "cell_type": "code",
      "execution_count": null,
      "metadata": {
        "id": "7rxSYD4w3jgs"
      },
      "outputs": [],
      "source": [
        "categories = os.listdir(data_dir)\n",
        "\n",
        "for category in categories:\n",
        "    category_dir = os.path.join(data_dir, category)\n",
        "    \n",
        "    # I test the code in macos environment, this if statement is for the bug only happens in macos\n",
        "    if category == \".DS_Store\":\n",
        "        continue\n",
        "\n",
        "    landmarks = os.listdir(category_dir)\n",
        "    \n",
        "    for landmark in landmarks:\n",
        "        \n",
        "        if landmark == \".DS_Store\":\n",
        "            continue\n",
        "        \n",
        "        # image data path\n",
        "        image_dir = os.path.join(category_dir, landmark)\n",
        "        \n",
        "        landmark_dir = os.path.join(data_dir, landmark)\n",
        "        \n",
        "        # image data\n",
        "        images = os.listdir(image_dir)\n",
        "        \n",
        "        # split data into test, validation and train\n",
        "        train_images, test_images = train_test_split(images, test_size=test_size, random_state=42)\n",
        "        # train_images, valid_images = train_test_split(train_images, test_size=valid_size, random_state=42)\n",
        "\n",
        "        os.makedirs(os.path.join(categories_train_dir, category), exist_ok=True)\n",
        "        os.makedirs(os.path.join(categories_test_dir, category), exist_ok=True)\n",
        "        os.makedirs(os.path.join(categories_valid_dir, category), exist_ok=True)\n",
        "        os.makedirs(os.path.join(landmarks_train_dir, landmark), exist_ok=True)\n",
        "        os.makedirs(os.path.join(landmarks_test_dir, landmark), exist_ok=True)\n",
        "        os.makedirs(os.path.join(landmarks_valid_dir, landmark), exist_ok=True)\n",
        "\n",
        "        # copy all files in the new floders\n",
        "        for image in train_images:\n",
        "            shutil.copy(os.path.join(image_dir, image), os.path.join(categories_train_dir, category, image))\n",
        "            shutil.copy(os.path.join(image_dir, image), os.path.join(landmarks_train_dir, landmark, image))\n",
        "        for image in test_images:\n",
        "            shutil.copy(os.path.join(image_dir, image), os.path.join(categories_test_dir, category, image))\n",
        "            shutil.copy(os.path.join(image_dir, image), os.path.join(landmarks_test_dir, landmark, image))\n",
        "        # for image in valid_images:\n",
        "        #     shutil.copy(os.path.join(image_dir, image), os.path.join(categories_valid_dir, category, image))\n",
        "        #     shutil.copy(os.path.join(image_dir, image), os.path.join(landmarks_valid_dir, landmark, image))"
      ]
    },
    {
      "cell_type": "markdown",
      "metadata": {
        "id": "vDbBq8P_ukrR"
      },
      "source": [
        "### Model building"
      ]
    },
    {
      "cell_type": "code",
      "execution_count": null,
      "metadata": {
        "id": "fhoP3_cGutAf"
      },
      "outputs": [],
      "source": [
        "import numpy as np\n",
        "import tensorflow as tf\n",
        "from tensorflow.keras.preprocessing.image import ImageDataGenerator\n",
        "from tensorflow.keras.applications import vgg16\n",
        "from tensorflow.keras.preprocessing.image import ImageDataGenerator\n",
        "from tensorflow.keras.applications import EfficientNetB0\n",
        "from tensorflow.keras.models import Sequential\n",
        "from tensorflow.keras.layers import Dense, GlobalAveragePooling2D\n",
        "from tensorflow.keras.optimizers import Adam\n",
        "from tensorflow.keras.preprocessing.image import array_to_img\n",
        "import matplotlib.pyplot as plt\n",
        "import sys"
      ]
    },
    {
      "cell_type": "markdown",
      "metadata": {
        "id": "ZPgkmvQIu7lP"
      },
      "source": [
        "#### Data Augmentation"
      ]
    },
    {
      "cell_type": "code",
      "source": [
        "# Adjust brightness\n",
        "def adjust_brightness(image):\n",
        "    delta = 0.2  # Change this value to adjust the brightness level\n",
        "    return tf.image.adjust_brightness(image, delta)\n",
        "\n",
        "# Adjust saturation\n",
        "def adjust_saturation(image):\n",
        "    saturation_factor = 1.5  # Change this value to adjust the saturation level\n",
        "    return tf.image.adjust_saturation(image, saturation_factor)\n",
        "\n",
        "# Adjust hue\n",
        "def adjust_hue(image):\n",
        "    delta = 0.1  # Change this value to adjust the hue level\n",
        "    return tf.image.adjust_hue(image, delta)\n",
        "\n",
        "# Adjust gamma\n",
        "def adjust_gamma(image):\n",
        "    gamma = 1.5  # Change this value to adjust the gamma level\n",
        "    gain = 1.0  # Change this value to adjust the gain\n",
        "    return tf.image.adjust_gamma(image, gamma, gain)\n",
        "\n",
        "# Edge detection\n",
        "def sobel_filter(image):\n",
        "    image = tf.cast(image, tf.float32)\n",
        "    image = tf.expand_dims(image, 0)\n",
        "    sobel = tf.image.sobel_edges(image)\n",
        "    sobel_y = np.asarray(sobel[0, :, :, :, 0]) # sobel in y-direction\n",
        "    sobel_x = np.asarray(sobel[0, :, :, :, 1]) # sobel in x-direction\n",
        "    # magnitude = tf.sqrt(tf.reduce_sum(tf.square(sobel_x), axis=-1) + tf.reduce_sum(tf.square(sobel_y), axis=-1))\n",
        "    magnitude = tf.sqrt(tf.square(sobel_x) + tf.square(sobel_y))\n",
        "    return magnitude\n",
        "    # return magnitude\n",
        "\n",
        "# RGB to grey\n",
        "def rgb_to_grey(image):\n",
        "    image = tf.image.rgb_to_grayscale(image)\n",
        "    return image\n",
        "\n",
        "def combined_preprocessing(image):\n",
        "    # tf.convert_to_tensor(image)\n",
        "    # image = rgb_to_grey(image)\n",
        "    image = adjust_brightness(image)\n",
        "    image = adjust_saturation(image)\n",
        "    image = adjust_hue(image)\n",
        "    image = adjust_gamma(image)\n",
        "    # image = sobel_filter(image)\n",
        "    # image = rgb_to_grey(image)\n",
        "    return image\n",
        "\n",
        "# # load an image from a file\n",
        "# image = tf.keras.preprocessing.image.load_img('/content/categories_test/Gothic/ChartresCathedral5.jpeg')\n",
        "# # convert the image to a tensor\n",
        "# # img_tensor = tf.keras.preprocessing.image.img_to_array(img)\n",
        "# image = combined_preprocessing(image)\n",
        "# # image = tf.image.rgb_to_grayscale(image)\n",
        "# # tf.print(image, output_stream=sys.stdout)\n",
        "# # convert the tensor to a PIL image\n",
        "# pil_image = array_to_img(image)\n",
        "\n",
        "# display the image using matplotlib\n",
        "# plt.imshow(pil_image)\n",
        "# plt.show()"
      ],
      "metadata": {
        "id": "tJ621ndG4GDh"
      },
      "execution_count": null,
      "outputs": []
    },
    {
      "cell_type": "code",
      "execution_count": null,
      "metadata": {
        "id": "aJ4JO6bou62m",
        "colab": {
          "base_uri": "https://localhost:8080/"
        },
        "outputId": "a9d7b873-8aa6-4831-f63f-4ce50913d680"
      },
      "outputs": [
        {
          "output_type": "stream",
          "name": "stdout",
          "text": [
            "Found 1634 images belonging to 6 classes.\n",
            "Found 444 images belonging to 6 classes.\n",
            "Found 1634 images belonging to 30 classes.\n",
            "Found 444 images belonging to 30 classes.\n"
          ]
        }
      ],
      "source": [
        "categories_train_dir = \"categories_train\"\n",
        "categories_valid_dir = \"categories_valid\"\n",
        "categories_test_dir = \"categories_test\"\n",
        "\n",
        "landmarks_train_dir = \"landmarks_train\"\n",
        "landmarks_valid_dir = \"landmarks_valid\"\n",
        "landmarks_test_dir = \"landmarks_test\"\n",
        "\n",
        "dict_param = { \n",
        "    'rescale' : 1./255,\n",
        "    'preprocessing_function' : combined_preprocessing\n",
        "}\n",
        "\n",
        "dict_param_train = {\n",
        "    'rescale' : 1./255,\n",
        "    'rotation_range' : 20,\n",
        "    'width_shift_range' : 0.2,\n",
        "    'height_shift_range' :0.2,\n",
        "    'shear_range' : 0.2,\n",
        "    'zoom_range' : 0.2,\n",
        "    'horizontal_flip' : True,\n",
        "    'fill_mode' : 'nearest',\n",
        "    'preprocessing_function' : combined_preprocessing\n",
        "}\n",
        "\n",
        "train_datagen = ImageDataGenerator(**dict_param_train)\n",
        "\n",
        "test_datagen = ImageDataGenerator(**dict_param)\n",
        "\n",
        "# Set the target size for the images (Both EfficientNetB0 and VGG16 input size is 224x224)\n",
        "target_size = (224, 224)\n",
        "\n",
        "category_train_generator = train_datagen.flow_from_directory(\n",
        "        categories_train_dir,\n",
        "        target_size=target_size,\n",
        "        batch_size=26,\n",
        "        class_mode='categorical')\n",
        "\n",
        "category_test_generator = test_datagen.flow_from_directory(\n",
        "        categories_test_dir,\n",
        "        target_size=target_size,\n",
        "        batch_size=43,\n",
        "        class_mode='categorical',\n",
        "        shuffle=False)\n",
        "\n",
        "landmark_train_generator = train_datagen.flow_from_directory(\n",
        "        landmarks_train_dir,\n",
        "        target_size=target_size,\n",
        "        batch_size=26,\n",
        "        class_mode='categorical')\n",
        "\n",
        "landmark_test_generator = test_datagen.flow_from_directory(\n",
        "        landmarks_test_dir,\n",
        "        target_size=target_size,\n",
        "        batch_size=43,\n",
        "        class_mode='categorical',\n",
        "        shuffle=False)"
      ]
    },
    {
      "cell_type": "markdown",
      "metadata": {
        "id": "dySXPrIqvKM2"
      },
      "source": [
        "#### Model Training"
      ]
    },
    {
      "cell_type": "code",
      "source": [
        "tf.__version__\n",
        "# category_model.save('category_classification.h5')\n",
        "from google.colab import files\n",
        "# files.download(\"/content/category_classification.h5\")"
      ],
      "metadata": {
        "id": "cQn6kfQ3UI1h"
      },
      "execution_count": null,
      "outputs": []
    },
    {
      "cell_type": "code",
      "execution_count": null,
      "metadata": {
        "id": "LemdyNjtvJrU"
      },
      "outputs": [],
      "source": [
        "def model_train(train_generator, test_generator, base_model, dense, e, name):\n",
        "\n",
        "    # freezing layer\n",
        "    for layer in base_model.layers[:-20]:\n",
        "        layer.trainable = False\n",
        "\n",
        "    model = Sequential([\n",
        "        base_model,\n",
        "        GlobalAveragePooling2D(),\n",
        "        Dense(dense, activation='softmax')\n",
        "    ])\n",
        "\n",
        "    model.compile(optimizer=Adam(lr=0.001), loss='categorical_crossentropy', metrics=['accuracy'])\n",
        "\n",
        "    history = model.fit(\n",
        "        train_generator,\n",
        "        steps_per_epoch=12,\n",
        "        epochs=e,\n",
        "        validation_data=test_generator,\n",
        "        validation_steps=2)\n",
        "    \n",
        "    model.save(name)\n",
        "    files.download(\"/content/\" + name)\n",
        "\n",
        "    return model, history"
      ]
    },
    {
      "cell_type": "code",
      "execution_count": null,
      "metadata": {
        "id": "nWj6da-3vXcE"
      },
      "outputs": [],
      "source": [
        "# categories\n",
        "categories = ['Pagodas','Pyramids','Modern','Gothic','Mughal','Neoclassical']\n",
        "\n",
        "# landmarks\n",
        "landmarks = [\n",
        "      'TianningTemplePagoda','ThienMuPagoda','GiantWildGoosePagoda','ShwedagonPagoda',\n",
        "      'FogongTemplePagoda','Pyramid of Giza','Pyramid of Djoser','Santa Cecilia Acatitlan Pyramid',\n",
        "      'El Castillo, Chichen Itza','Louvre Pyramid','Chrysler Building','Cathedral of Brasília',\n",
        "      'CCTV Headquarters','Hallgrímskirkja','eiffel','St.VitusCathedral',\n",
        "      'MilanCathedral','ChartresCathedral','CologneCathedral','Notre-DameCathedral',\n",
        "      'Taj Mahal','Tomb of Akbar','Jama Masjid','Tomb of I_timad-ud-Daulah',\n",
        "      'Bibi Ka Maqbara','Buckingham Palace','Concertgebouw',\n",
        "      'Academy of Athens','Panthéon','Ripon Building','other']\n",
        "\n",
        "EFN = EfficientNetB0(\n",
        "    include_top=False, \n",
        "    weights='imagenet', \n",
        "    input_shape=target_size + (3,))\n",
        "\n",
        "# VGG = vgg16.VGG16(    \n",
        "#     include_top=False,\n",
        "#     weights='imagenet',\n",
        "#     input_shape=target_size + (3,))\n",
        "\n",
        "# model_VGG = model_compile(train_generator, test_generator, VGG, target_size)"
      ]
    },
    {
      "cell_type": "code",
      "source": [
        "category_model, category_history = model_train(category_train_generator, category_test_generator,\n",
        "                                               EFN, len(categories), 24, 'category_classification.h5')"
      ],
      "metadata": {
        "id": "N3Hq7V5jQBtU",
        "colab": {
          "base_uri": "https://localhost:8080/",
          "height": 850
        },
        "outputId": "84c4ab70-5b01-426a-cd8f-1ca36cf0fb9b"
      },
      "execution_count": null,
      "outputs": [
        {
          "output_type": "stream",
          "name": "stdout",
          "text": [
            "Epoch 1/24\n",
            "12/12 [==============================] - 18s 1s/step - loss: 1.2860 - accuracy: 0.5065 - val_loss: 0.7850 - val_accuracy: 0.7907\n",
            "Epoch 2/24\n",
            "12/12 [==============================] - 10s 866ms/step - loss: 0.5763 - accuracy: 0.8269 - val_loss: 0.5085 - val_accuracy: 0.8605\n",
            "Epoch 3/24\n",
            "12/12 [==============================] - 8s 651ms/step - loss: 0.4109 - accuracy: 0.8718 - val_loss: 0.5742 - val_accuracy: 0.7791\n",
            "Epoch 4/24\n",
            "12/12 [==============================] - 10s 799ms/step - loss: 0.3596 - accuracy: 0.8910 - val_loss: 0.5548 - val_accuracy: 0.8023\n",
            "Epoch 5/24\n",
            "12/12 [==============================] - 8s 712ms/step - loss: 0.3074 - accuracy: 0.8974 - val_loss: 0.3006 - val_accuracy: 0.8721\n",
            "Epoch 6/24\n",
            "12/12 [==============================] - 9s 724ms/step - loss: 0.2684 - accuracy: 0.8974 - val_loss: 0.1328 - val_accuracy: 0.9535\n",
            "Epoch 7/24\n",
            "12/12 [==============================] - 12s 1s/step - loss: 0.2944 - accuracy: 0.8910 - val_loss: 0.0945 - val_accuracy: 0.9651\n",
            "Epoch 8/24\n",
            "12/12 [==============================] - 8s 677ms/step - loss: 0.2666 - accuracy: 0.8994 - val_loss: 0.2627 - val_accuracy: 0.8953\n",
            "Epoch 9/24\n",
            "12/12 [==============================] - 10s 868ms/step - loss: 0.2463 - accuracy: 0.9263 - val_loss: 0.2294 - val_accuracy: 0.9070\n",
            "Epoch 10/24\n",
            "12/12 [==============================] - 10s 864ms/step - loss: 0.1956 - accuracy: 0.9487 - val_loss: 0.0733 - val_accuracy: 0.9884\n",
            "Epoch 11/24\n",
            "12/12 [==============================] - 8s 664ms/step - loss: 0.1876 - accuracy: 0.9359 - val_loss: 0.1082 - val_accuracy: 0.9535\n",
            "Epoch 12/24\n",
            "12/12 [==============================] - 10s 841ms/step - loss: 0.1242 - accuracy: 0.9610 - val_loss: 0.1150 - val_accuracy: 0.9535\n",
            "Epoch 13/24\n",
            "12/12 [==============================] - 8s 678ms/step - loss: 0.1201 - accuracy: 0.9643 - val_loss: 0.0990 - val_accuracy: 0.9651\n",
            "Epoch 14/24\n",
            "12/12 [==============================] - 9s 748ms/step - loss: 0.1740 - accuracy: 0.9383 - val_loss: 0.0966 - val_accuracy: 0.9651\n",
            "Epoch 15/24\n",
            "12/12 [==============================] - 9s 821ms/step - loss: 0.2056 - accuracy: 0.9263 - val_loss: 0.3388 - val_accuracy: 0.8837\n",
            "Epoch 16/24\n",
            "12/12 [==============================] - 8s 687ms/step - loss: 0.1910 - accuracy: 0.9383 - val_loss: 0.1306 - val_accuracy: 0.9419\n",
            "Epoch 17/24\n",
            "12/12 [==============================] - 9s 802ms/step - loss: 0.2041 - accuracy: 0.9423 - val_loss: 0.1264 - val_accuracy: 0.9535\n",
            "Epoch 18/24\n",
            "12/12 [==============================] - 9s 745ms/step - loss: 0.2141 - accuracy: 0.9231 - val_loss: 0.1471 - val_accuracy: 0.9419\n",
            "Epoch 19/24\n",
            "12/12 [==============================] - 9s 729ms/step - loss: 0.1393 - accuracy: 0.9513 - val_loss: 0.0885 - val_accuracy: 0.9767\n",
            "Epoch 20/24\n",
            "12/12 [==============================] - 10s 875ms/step - loss: 0.1347 - accuracy: 0.9583 - val_loss: 0.0736 - val_accuracy: 0.9767\n",
            "Epoch 21/24\n",
            "12/12 [==============================] - 8s 658ms/step - loss: 0.1397 - accuracy: 0.9615 - val_loss: 0.0685 - val_accuracy: 0.9767\n",
            "Epoch 22/24\n",
            "12/12 [==============================] - 10s 855ms/step - loss: 0.1038 - accuracy: 0.9679 - val_loss: 0.1117 - val_accuracy: 0.9419\n",
            "Epoch 23/24\n",
            "12/12 [==============================] - 8s 664ms/step - loss: 0.0868 - accuracy: 0.9744 - val_loss: 0.1027 - val_accuracy: 0.9651\n",
            "Epoch 24/24\n",
            "12/12 [==============================] - 10s 814ms/step - loss: 0.1265 - accuracy: 0.9615 - val_loss: 0.0930 - val_accuracy: 0.9767\n"
          ]
        },
        {
          "output_type": "display_data",
          "data": {
            "text/plain": [
              "<IPython.core.display.Javascript object>"
            ],
            "application/javascript": [
              "\n",
              "    async function download(id, filename, size) {\n",
              "      if (!google.colab.kernel.accessAllowed) {\n",
              "        return;\n",
              "      }\n",
              "      const div = document.createElement('div');\n",
              "      const label = document.createElement('label');\n",
              "      label.textContent = `Downloading \"${filename}\": `;\n",
              "      div.appendChild(label);\n",
              "      const progress = document.createElement('progress');\n",
              "      progress.max = size;\n",
              "      div.appendChild(progress);\n",
              "      document.body.appendChild(div);\n",
              "\n",
              "      const buffers = [];\n",
              "      let downloaded = 0;\n",
              "\n",
              "      const channel = await google.colab.kernel.comms.open(id);\n",
              "      // Send a message to notify the kernel that we're ready.\n",
              "      channel.send({})\n",
              "\n",
              "      for await (const message of channel.messages) {\n",
              "        // Send a message to notify the kernel that we're ready.\n",
              "        channel.send({})\n",
              "        if (message.buffers) {\n",
              "          for (const buffer of message.buffers) {\n",
              "            buffers.push(buffer);\n",
              "            downloaded += buffer.byteLength;\n",
              "            progress.value = downloaded;\n",
              "          }\n",
              "        }\n",
              "      }\n",
              "      const blob = new Blob(buffers, {type: 'application/binary'});\n",
              "      const a = document.createElement('a');\n",
              "      a.href = window.URL.createObjectURL(blob);\n",
              "      a.download = filename;\n",
              "      div.appendChild(a);\n",
              "      a.click();\n",
              "      div.remove();\n",
              "    }\n",
              "  "
            ]
          },
          "metadata": {}
        },
        {
          "output_type": "display_data",
          "data": {
            "text/plain": [
              "<IPython.core.display.Javascript object>"
            ],
            "application/javascript": [
              "download(\"download_625bb114-6923-4bd6-80cc-0e585fda1f94\", \"category_classification.h5\", 27534192)"
            ]
          },
          "metadata": {}
        }
      ]
    },
    {
      "cell_type": "code",
      "source": [
        "# category_model.save('category_classification.h5')\n",
        "# from google.colab import files\n",
        "# files.download(\"/content/category_classification.h5\")"
      ],
      "metadata": {
        "id": "nvxTUDxeQGJL"
      },
      "execution_count": null,
      "outputs": []
    },
    {
      "cell_type": "code",
      "source": [
        "landmark_model, landmark_history = model_train(landmark_train_generator, landmark_test_generator, EFN, len(landmarks)-1, 24,'landmark_classification.h5')"
      ],
      "metadata": {
        "id": "E1ZpQXiFQLre",
        "colab": {
          "base_uri": "https://localhost:8080/",
          "height": 850
        },
        "outputId": "ed41ed0d-3393-426b-a349-d72731c77bcb"
      },
      "execution_count": null,
      "outputs": [
        {
          "output_type": "stream",
          "name": "stdout",
          "text": [
            "Epoch 1/24\n",
            "12/12 [==============================] - 17s 814ms/step - loss: 2.6171 - accuracy: 0.2756 - val_loss: 1.3711 - val_accuracy: 0.5233\n",
            "Epoch 2/24\n",
            "12/12 [==============================] - 11s 917ms/step - loss: 1.2482 - accuracy: 0.6699 - val_loss: 0.6785 - val_accuracy: 0.7791\n",
            "Epoch 3/24\n",
            "12/12 [==============================] - 8s 676ms/step - loss: 0.8641 - accuracy: 0.7565 - val_loss: 0.6915 - val_accuracy: 0.7558\n",
            "Epoch 4/24\n",
            "12/12 [==============================] - 9s 807ms/step - loss: 0.7276 - accuracy: 0.8013 - val_loss: 0.5849 - val_accuracy: 0.7674\n",
            "Epoch 5/24\n",
            "12/12 [==============================] - 8s 651ms/step - loss: 0.5717 - accuracy: 0.8279 - val_loss: 0.5073 - val_accuracy: 0.8372\n",
            "Epoch 6/24\n",
            "12/12 [==============================] - 10s 811ms/step - loss: 0.4700 - accuracy: 0.8654 - val_loss: 0.3320 - val_accuracy: 0.8953\n",
            "Epoch 7/24\n",
            "12/12 [==============================] - 8s 714ms/step - loss: 0.4148 - accuracy: 0.8942 - val_loss: 0.5415 - val_accuracy: 0.8023\n",
            "Epoch 8/24\n",
            "12/12 [==============================] - 8s 655ms/step - loss: 0.3517 - accuracy: 0.9071 - val_loss: 0.3039 - val_accuracy: 0.9070\n",
            "Epoch 9/24\n",
            "12/12 [==============================] - 9s 782ms/step - loss: 0.3456 - accuracy: 0.9103 - val_loss: 0.3302 - val_accuracy: 0.8953\n",
            "Epoch 10/24\n",
            "12/12 [==============================] - 8s 727ms/step - loss: 0.3071 - accuracy: 0.9167 - val_loss: 0.2781 - val_accuracy: 0.9070\n",
            "Epoch 11/24\n",
            "12/12 [==============================] - 9s 806ms/step - loss: 0.2045 - accuracy: 0.9423 - val_loss: 0.2787 - val_accuracy: 0.8837\n",
            "Epoch 12/24\n",
            "12/12 [==============================] - 10s 888ms/step - loss: 0.2112 - accuracy: 0.9423 - val_loss: 0.2238 - val_accuracy: 0.9070\n",
            "Epoch 13/24\n",
            "12/12 [==============================] - 9s 719ms/step - loss: 0.1977 - accuracy: 0.9359 - val_loss: 0.1885 - val_accuracy: 0.9302\n",
            "Epoch 14/24\n",
            "12/12 [==============================] - 10s 787ms/step - loss: 0.2125 - accuracy: 0.9416 - val_loss: 0.1486 - val_accuracy: 0.9651\n",
            "Epoch 15/24\n",
            "12/12 [==============================] - 8s 710ms/step - loss: 0.1882 - accuracy: 0.9481 - val_loss: 0.2433 - val_accuracy: 0.9186\n",
            "Epoch 16/24\n",
            "12/12 [==============================] - 9s 735ms/step - loss: 0.1366 - accuracy: 0.9679 - val_loss: 0.2719 - val_accuracy: 0.9419\n",
            "Epoch 17/24\n",
            "12/12 [==============================] - 9s 753ms/step - loss: 0.1714 - accuracy: 0.9455 - val_loss: 0.2105 - val_accuracy: 0.9302\n",
            "Epoch 18/24\n",
            "12/12 [==============================] - 7s 640ms/step - loss: 0.1385 - accuracy: 0.9583 - val_loss: 0.1800 - val_accuracy: 0.9419\n",
            "Epoch 19/24\n",
            "12/12 [==============================] - 9s 732ms/step - loss: 0.1716 - accuracy: 0.9740 - val_loss: 0.2335 - val_accuracy: 0.9419\n",
            "Epoch 20/24\n",
            "12/12 [==============================] - 11s 901ms/step - loss: 0.1379 - accuracy: 0.9643 - val_loss: 0.1806 - val_accuracy: 0.9535\n",
            "Epoch 21/24\n",
            "12/12 [==============================] - 10s 834ms/step - loss: 0.1619 - accuracy: 0.9551 - val_loss: 0.2268 - val_accuracy: 0.9186\n",
            "Epoch 22/24\n",
            "12/12 [==============================] - 7s 568ms/step - loss: 0.1480 - accuracy: 0.9578 - val_loss: 0.1731 - val_accuracy: 0.9535\n",
            "Epoch 23/24\n",
            "12/12 [==============================] - 10s 851ms/step - loss: 0.1957 - accuracy: 0.9391 - val_loss: 0.1270 - val_accuracy: 0.9651\n",
            "Epoch 24/24\n",
            "12/12 [==============================] - 9s 787ms/step - loss: 0.1294 - accuracy: 0.9712 - val_loss: 0.1054 - val_accuracy: 0.9651\n"
          ]
        },
        {
          "output_type": "display_data",
          "data": {
            "text/plain": [
              "<IPython.core.display.Javascript object>"
            ],
            "application/javascript": [
              "\n",
              "    async function download(id, filename, size) {\n",
              "      if (!google.colab.kernel.accessAllowed) {\n",
              "        return;\n",
              "      }\n",
              "      const div = document.createElement('div');\n",
              "      const label = document.createElement('label');\n",
              "      label.textContent = `Downloading \"${filename}\": `;\n",
              "      div.appendChild(label);\n",
              "      const progress = document.createElement('progress');\n",
              "      progress.max = size;\n",
              "      div.appendChild(progress);\n",
              "      document.body.appendChild(div);\n",
              "\n",
              "      const buffers = [];\n",
              "      let downloaded = 0;\n",
              "\n",
              "      const channel = await google.colab.kernel.comms.open(id);\n",
              "      // Send a message to notify the kernel that we're ready.\n",
              "      channel.send({})\n",
              "\n",
              "      for await (const message of channel.messages) {\n",
              "        // Send a message to notify the kernel that we're ready.\n",
              "        channel.send({})\n",
              "        if (message.buffers) {\n",
              "          for (const buffer of message.buffers) {\n",
              "            buffers.push(buffer);\n",
              "            downloaded += buffer.byteLength;\n",
              "            progress.value = downloaded;\n",
              "          }\n",
              "        }\n",
              "      }\n",
              "      const blob = new Blob(buffers, {type: 'application/binary'});\n",
              "      const a = document.createElement('a');\n",
              "      a.href = window.URL.createObjectURL(blob);\n",
              "      a.download = filename;\n",
              "      div.appendChild(a);\n",
              "      a.click();\n",
              "      div.remove();\n",
              "    }\n",
              "  "
            ]
          },
          "metadata": {}
        },
        {
          "output_type": "display_data",
          "data": {
            "text/plain": [
              "<IPython.core.display.Javascript object>"
            ],
            "application/javascript": [
              "download(\"download_49068a2a-72ab-4852-891f-b6cd0c658913\", \"landmark_classification.h5\", 27902832)"
            ]
          },
          "metadata": {}
        }
      ]
    },
    {
      "cell_type": "code",
      "source": [
        "# landmark_model.save('landmark_classification.h5')\n",
        "# files.download(\"/content/landmark_classification.h5\")"
      ],
      "metadata": {
        "id": "AwWe0k8zQNZg"
      },
      "execution_count": null,
      "outputs": []
    },
    {
      "cell_type": "code",
      "source": [
        "# Get training and test loss histories\n",
        "category_loss = category_history.history['val_loss']\n",
        "category_training_loss = category_history.history['loss']\n",
        "landmark_loss = landmark_history.history['val_loss']\n",
        "landmark_training_loss = landmark_history.history['loss']\n",
        "\n",
        "# Create count of the number of epochs\n",
        "epoch_count = range(1, len(category_loss) + 1)\n",
        "\n",
        "# Visualize loss history\n",
        "plt.plot(epoch_count, category_loss, 'r-')\n",
        "plt.plot(epoch_count, category_training_loss, 'r--')\n",
        "plt.plot(epoch_count, landmark_loss, 'b-')\n",
        "plt.plot(epoch_count, landmark_training_loss, 'b--')\n",
        "plt.legend(['Test Category Loss', 'Train Category Loss', 'Test Landmark Loss', 'Train Landmark Loss'])\n",
        "plt.xlabel('Epoch')\n",
        "plt.ylabel('Loss')\n",
        "plt.show();"
      ],
      "metadata": {
        "id": "vbqVbCA6CWoJ",
        "colab": {
          "base_uri": "https://localhost:8080/",
          "height": 449
        },
        "outputId": "2831dc63-104b-4656-d67b-7ba871ceb8cf"
      },
      "execution_count": null,
      "outputs": [
        {
          "output_type": "display_data",
          "data": {
            "text/plain": [
              "<Figure size 640x480 with 1 Axes>"
            ],
            "image/png": "[encoded data removed]"
          },
          "metadata": {}
        }
      ]
    },
    {
      "cell_type": "code",
      "source": [
        "# from sklearn.metrics import classification_report\n",
        "# # Get the true labels and predicted labels from the test generator and the model, respectively\n",
        "# test_generator = test_datagen.flow_from_directory(\n",
        "#         categories_test_dir,\n",
        "#         target_size=target_size,\n",
        "#         batch_size=87,\n",
        "#         class_mode='categorical')\n",
        "\n",
        "# true_labels = test_generator.classes\n",
        "\n",
        "# prediction = category_model.predict(\n",
        "#     test_generator,\n",
        "#     use_multiprocessing=True\n",
        "# )\n",
        "# predicted_labels = np.argmax(prediction, axis=1)\n",
        "# print(predicted_labels)\n",
        "# # Calculate the classification report\n",
        "# report = classification_report(true_labels, predicted_labels, output_dict=True)\n",
        "\n",
        "# # Extract the F1 macro score\n",
        "# f1_macro_score = report[\"macro avg\"][\"f1-score\"]\n",
        "# print(f\"F1 Macro Score: {f1_macro_score:.4f}\")"
      ],
      "metadata": {
        "id": "3cH2ehHJhiRw"
      },
      "execution_count": null,
      "outputs": []
    },
    {
      "cell_type": "code",
      "source": [
        "# from sklearn.metrics import classification_report\n",
        "# from sklearn.metrics import f1_score\n",
        "# from tensorflow.keras.preprocessing.image import load_img, img_to_array, array_to_img\n",
        "# from tensorflow.keras.utils import normalize\n",
        "\n",
        "# def image_rescale(img):\n",
        "#     # Convert the image to a numpy array\n",
        "#     img_array = img_to_array(img)\n",
        "#     # Rescale the image array\n",
        "#     rescaled_img_array = img_array / 255.0\n",
        "#     # Normalize the rescaled image array\n",
        "#     normalized_img_array = normalize(rescaled_img_array, axis=-1)\n",
        "#     # Convert the normalized image array back to an image\n",
        "#     rescaled_img = array_to_img(normalized_img_array)\n",
        "#     return rescaled_img\n",
        "\n",
        "# categories = os.listdir(\"/content/categories_test\")\n",
        "# for category in categories:\n",
        "#     category_dir = os.path.join(\"/content/categories_test\", category)\n",
        "#     images = os.listdir(category_dir)\n",
        "#     for image in images:\n",
        "#         image_dir = os.path.join(category_dir, image)\n",
        "#         img = load_img(image_dir)\n",
        "#         img = img.resize((224, 224))\n",
        "#         img = combined_preprocessing(img)\n",
        "#         img_array = np.array(img)\n",
        "#         img_array = img_array / 255.0\n",
        "#         img_array = img_array.reshape((1, 224, 224, 3))\n",
        "#         # img = tf.keras.utils.array_to_img(img_array)\n",
        "#         # print(tf.shape(img))\n",
        "#         prediction = category_model.predict(img_array)   \n",
        "#         label = np.argmax(prediction)   \n",
        "#         print(category, label)  \n",
        "\n",
        "\n",
        "\n",
        "# # true_labels = category_test_generator.classes\n",
        "# # # prediction = category_model.predict(category_test_generator)\n",
        "# # predicted_labels = np.argmax(category_model.predict(category_test_generator), axis=1)\n",
        "# # predicted_labels2 = np.argmax(category_model.predict(category_test_generator), axis=1)\n",
        "# # # Calculate the classification report\n",
        "# # # report = classification_report(true_labels, predicted_labels, output_dict=True)\n",
        "\n",
        "# # # Extract the F1 macro score\n",
        "# # f1_macro_score = f1_score(true_labels, predicted_labels, average='macro')\n",
        "# # print(f\"F1 Macro Score: {f1_macro_score:.4f}\")\n",
        "# # print(predicted_labels)\n",
        "# # print(predicted_labels2)"
      ],
      "metadata": {
        "id": "zdqZcPRWJAR8"
      },
      "execution_count": null,
      "outputs": []
    },
    {
      "cell_type": "markdown",
      "source": [
        "### Model combination"
      ],
      "metadata": {
        "id": "6aHna_d0zklz"
      }
    },
    {
      "cell_type": "code",
      "source": [
        "# def add_information(image):\n",
        "#     # 对新图像进行第一步分类\n",
        "#     first_step_prediction = category_model.predict(image)\n",
        "\n",
        "#     # 使用第一步分类的结果作为第二步分类的依据\n",
        "#     second_step_input = tf.concat([image, first_step_prediction], axis=-1)\n",
        "\n",
        "#     return second_step_input\n",
        "\n",
        "# def second_process(image):\n",
        "#     image = combined_preprocessing(image)\n",
        "#     image = add_information(image)\n",
        "#     return image\n",
        "\n",
        "# dict_param = { \n",
        "#     'rescale' : 1./255,\n",
        "#     'preprocessing_function' : second_process\n",
        "# }\n",
        "\n",
        "# dict_param_train = {\n",
        "#     'rescale' : 1./255,\n",
        "#     'rotation_range' : 20,\n",
        "#     'width_shift_range' : 0.2,\n",
        "#     'height_shift_range' :0.2,\n",
        "#     'shear_range' : 0.2,\n",
        "#     'zoom_range' : 0.2,\n",
        "#     'horizontal_flip' : True,\n",
        "#     'fill_mode' : 'nearest',\n",
        "#     'preprocessing_function' : second_process\n",
        "# }\n",
        "\n",
        "# second_train_datagen = ImageDataGenerator(**dict_param_train)\n",
        "\n",
        "# second_test_datagen = ImageDataGenerator(**dict_param)\n",
        "\n",
        "# second_train_generator = train_datagen.flow_from_directory(\n",
        "#         landmarks_train_dir,\n",
        "#         target_size=target_size,\n",
        "#         batch_size=26,\n",
        "#         class_mode='categorical')\n",
        "\n",
        "# second_test_generator = test_datagen.flow_from_directory(\n",
        "#         landmarks_test_dir,\n",
        "#         target_size=target_size,\n",
        "#         batch_size=43,\n",
        "#         class_mode='categorical')\n",
        "\n",
        "# second_landmark_model = model_train(second_train_generator, second_test_generator, EFN, len(landmarks))"
      ],
      "metadata": {
        "id": "8SjXsmZr0tW3"
      },
      "execution_count": null,
      "outputs": []
    },
    {
      "cell_type": "markdown",
      "source": [
        "### Test"
      ],
      "metadata": {
        "id": "jlGMh4hAQjvv"
      }
    },
    {
      "cell_type": "code",
      "source": [
        "# # Adjust brightness\n",
        "# def adjust_brightness(image):\n",
        "#     delta = 0.2  # Change this value to adjust the brightness level\n",
        "#     return tf.image.adjust_brightness(image, delta)\n",
        "\n",
        "# # Adjust saturation\n",
        "# def adjust_saturation(image):\n",
        "#     saturation_factor = 1.5  # Change this value to adjust the saturation level\n",
        "#     return tf.image.adjust_saturation(image, saturation_factor)\n",
        "\n",
        "# # Adjust hue\n",
        "# def adjust_hue(image):\n",
        "#     delta = 0.1  # Change this value to adjust the hue level\n",
        "#     return tf.image.adjust_hue(image, delta)\n",
        "\n",
        "# # Adjust gamma\n",
        "# def adjust_gamma(image):\n",
        "#     gamma = 1.5  # Change this value to adjust the gamma level\n",
        "#     gain = 1.0  # Change this value to adjust the gain\n",
        "#     return tf.image.adjust_gamma(image, gamma, gain)\n",
        "\n",
        "# # Edge detection\n",
        "# def sobel_filter(image):\n",
        "#     image = tf.cast(image, tf.float32)\n",
        "#     image = tf.expand_dims(image, 0)\n",
        "#     sobel = tf.image.sobel_edges(image)\n",
        "#     sobel_y = np.asarray(sobel[0, :, :, :, 0]) # sobel in y-direction\n",
        "#     sobel_x = np.asarray(sobel[0, :, :, :, 1]) # sobel in x-direction\n",
        "#     # magnitude = tf.sqrt(tf.reduce_sum(tf.square(sobel_x), axis=-1) + tf.reduce_sum(tf.square(sobel_y), axis=-1))\n",
        "#     magnitude = tf.sqrt(tf.square(sobel_x) + tf.square(sobel_y))\n",
        "#     return magnitude\n",
        "#     # return magnitude\n",
        "\n",
        "# # RGB to grey\n",
        "# def rgb_to_grey(image):\n",
        "#     image = tf.image.rgb_to_grayscale(image)\n",
        "#     return image\n",
        "\n",
        "# def test_preprocessing(image):\n",
        "#     # tf.convert_to_tensor(image)\n",
        "#     # image = rgb_to_grey(image)\n",
        "#     image = adjust_brightness(image)\n",
        "#     image = adjust_saturation(image)\n",
        "#     image = adjust_hue(image)\n",
        "#     image = adjust_gamma(image)\n",
        "#     # image = sobel_filter(image)\n",
        "#     # image = rgb_to_grey(image)\n",
        "#     return image"
      ],
      "metadata": {
        "id": "rbCvSJDpnj1S"
      },
      "execution_count": null,
      "outputs": []
    },
    {
      "cell_type": "code",
      "source": [
        "# categories_train_dir = \"categories_train\"\n",
        "# categories_valid_dir = \"categories_valid\"\n",
        "# categories_test_dir = \"categories_test\"\n",
        "\n",
        "# landmarks_train_dir = \"landmarks_train\"\n",
        "# landmarks_valid_dir = \"landmarks_valid\"\n",
        "# landmarks_test_dir = \"landmarks_test\"\n",
        "\n",
        "# target_size = (224, 224)\n",
        "\n",
        "# image_data = tf.keras.utils.image_dataset_from_directory(\n",
        "#   categories_test_dir, image_size=target_size, batch_size=17\n",
        "# )\n",
        "\n",
        "# image_data = image_data.map(test_preprocessing)\n",
        "\n",
        "# class_names = image_data.class_names\n",
        "\n",
        "# class_origin = []\n",
        "# for image_batch, label_batch in image_data:\n",
        "#     prediction = category_model.predict(image_batch)\n",
        "#     category_index = np.argmax(prediction, axis=1)\n",
        "#     for i in range(len(image_batch)):\n",
        "#         class_name = class_names[label_batch[i]]\n",
        "#         class_origin.append(class_name)\n",
        "#         predict_name = class_names[category_index[i]]\n",
        "#         print(class_name, predict_name)\n",
        "\n",
        "# # prediction = category_model.predict(image_data)\n",
        "# # category_index = np.argmax(prediction, axis=1)\n",
        "\n",
        "# # class_prediction = []\n",
        "# # for i in category_index:\n",
        "# #     class_prediction.append(class_names[i])\n",
        "\n",
        "# # print(\"origin:  \",class_origin)\n",
        "# # print(\"prediction:  \", class_prediction)"
      ],
      "metadata": {
        "id": "MjQDqch0Ql0C"
      },
      "execution_count": null,
      "outputs": []
    },
    {
      "cell_type": "code",
      "source": [
        "# print(len(class_origin))\n",
        "# print(len(class_prediction))"
      ],
      "metadata": {
        "id": "FzChXz_rrhjn"
      },
      "execution_count": null,
      "outputs": []
    },
    {
      "cell_type": "code",
      "source": [
        "# !zip -r /content/category_classification.zip /content/category_classification\n",
        "# from google.colab import files\n",
        "# files.download(\"/content/category_classification.zip\")"
      ],
      "metadata": {
        "id": "i5AgxLI0dNQU"
      },
      "execution_count": null,
      "outputs": []
    },
    {
      "cell_type": "code",
      "source": [
        "# category_model.save('category_classification_h5.h5')\n",
        "# files.download(\"/content/category_classification_h5.h5\")"
      ],
      "metadata": {
        "id": "VZWLMvB9nVDh"
      },
      "execution_count": null,
      "outputs": []
    }
  ],
  "metadata": {
    "accelerator": "GPU",
    "colab": {
      "provenance": []
    },
    "gpuClass": "standard",
    "kernelspec": {
      "display_name": "Python 3",
      "name": "python3"
    },
    "language_info": {
      "name": "python"
    }
  },
  "nbformat": 4,
  "nbformat_minor": 0
}